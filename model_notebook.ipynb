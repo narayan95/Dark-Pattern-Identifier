{
 "cells": [
  {
   "cell_type": "markdown",
   "id": "8306894a",
   "metadata": {},
   "source": [
    "## Presence Detection"
   ]
  },
  {
   "cell_type": "code",
   "execution_count": 1,
   "id": "4fe8008e",
   "metadata": {},
   "outputs": [],
   "source": [
    "import pandas as pd\n",
    "from sklearn.model_selection import train_test_split\n",
    "from sklearn.feature_extraction.text import TfidfVectorizer\n",
    "from sklearn import metrics\n",
    "from sklearn.pipeline import make_pipeline\n",
    "from sklearn.naive_bayes import BernoulliNB, MultinomialNB\n",
    "from sklearn.ensemble import RandomForestClassifier\n",
    "from sklearn import svm, tree\n",
    "from sklearn.linear_model import SGDClassifier, LogisticRegression\n",
    "\n",
    "df1 = pd.read_csv('normie.csv')\n",
    "df2 = pd.read_csv('dark_patterns.csv')\n",
    "\n",
    "df1 = df1[pd.notnull(df1[\"Pattern String\"])]\n",
    "df1 = df1[df1[\"classification\"] == 0]\n",
    "df1[\"classification\"] = \"Not Dark\"\n",
    "df1.drop_duplicates(subset=\"Pattern String\")\n",
    "\n",
    "df2 = df2[pd.notnull(df2[\"Pattern String\"])]\n",
    "df2[\"classification\"] = \"Dark\"\n",
    "col = [\"Pattern String\", \"classification\"]\n",
    "df2 = df2[col]\n",
    "\n",
    "df = pd.concat([df1, df2])\n",
    "\n",
    "X = df['Pattern String']\n",
    "Y = df[\"classification\"]\n",
    "X_train, X_test, y_train, y_test = train_test_split(X, Y, random_state=42, test_size=.3)\n",
    "\n",
    "model_presence = make_pipeline(TfidfVectorizer(sublinear_tf=True, min_df=5, norm='l2',encoding='latin-1',ngram_range=(1, 2), stop_words='english'), BernoulliNB())\n",
    "model_presence.fit(X_train, y_train)\n",
    "predictions = model_presence.predict(X_test)"
   ]
  },
  {
   "cell_type": "markdown",
   "id": "3512976d",
   "metadata": {},
   "source": [
    "## Type of Dark Pattern"
   ]
  },
  {
   "cell_type": "code",
   "execution_count": 15,
   "id": "94d4881d",
   "metadata": {},
   "outputs": [],
   "source": [
    "import pandas as pd\n",
    "from sklearn.feature_extraction.text import TfidfVectorizer\n",
    "from sklearn.model_selection import train_test_split\n",
    "from sklearn.pipeline import make_pipeline\n",
    "from sklearn.naive_bayes import MultinomialNB\n",
    "from sklearn import metrics\n",
    "\n",
    "df = pd.read_csv('dark_patterns.csv')\n",
    "\n",
    "df = df[pd.notnull(df[\"Pattern String\"])]\n",
    "col = [\"Pattern String\", \"Pattern Category\"]\n",
    "df = df[col]\n",
    "\n",
    "X = df['Pattern String']\n",
    "Y = df[\"Pattern Category\"]\n",
    "X_train, X_test, y_train, y_test = train_test_split(X, Y, test_size=0.3)\n",
    "model_detect = make_pipeline(TfidfVectorizer(sublinear_tf=True, min_df=2, norm='l2',encoding='latin-1',ngram_range=(1, 2), stop_words='english'), MultinomialNB())\n",
    "model_detect.fit(X_train, y_train)\n",
    "predictions = model_detect.predict(X_test)"
   ]
  },
  {
   "cell_type": "code",
   "execution_count": 16,
   "id": "d70e887f",
   "metadata": {},
   "outputs": [
    {
     "name": "stdout",
     "output_type": "stream",
     "text": [
      "you should buy this\n",
      "['Not Dark']\n"
     ]
    }
   ],
   "source": [
    "text = input()\n",
    "\n",
    "prediction = model_presence.predict([text])\n",
    "if(prediction == \"Dark\"):\n",
    "    detection = model_detect.predict([text])\n",
    "    print(detection)\n",
    "else:\n",
    "    print(prediction)"
   ]
  },
  {
   "cell_type": "code",
   "execution_count": 18,
   "id": "874f9f95",
   "metadata": {},
   "outputs": [],
   "source": [
    "import pickle"
   ]
  },
  {
   "cell_type": "code",
   "execution_count": 20,
   "id": "b71f6702",
   "metadata": {},
   "outputs": [],
   "source": [
    "pickle.dump(model_presence,open('model_presence.pkl','wb'))"
   ]
  },
  {
   "cell_type": "code",
   "execution_count": null,
   "id": "6c87a451",
   "metadata": {},
   "outputs": [],
   "source": [
    "pickle.dump(model_detect,open('model_detect.pkl','wb'))"
   ]
  }
 ],
 "metadata": {
  "kernelspec": {
   "display_name": "Python 3 (ipykernel)",
   "language": "python",
   "name": "python3"
  },
  "language_info": {
   "codemirror_mode": {
    "name": "ipython",
    "version": 3
   },
   "file_extension": ".py",
   "mimetype": "text/x-python",
   "name": "python",
   "nbconvert_exporter": "python",
   "pygments_lexer": "ipython3",
   "version": "3.11.5"
  }
 },
 "nbformat": 4,
 "nbformat_minor": 5
}
